{
  "nbformat": 4,
  "nbformat_minor": 0,
  "metadata": {
    "colab": {
      "provenance": []
    },
    "kernelspec": {
      "name": "python3",
      "display_name": "Python 3"
    },
    "language_info": {
      "name": "python"
    }
  },
  "cells": [
    {
      "cell_type": "markdown",
      "source": [
        "Using Apache Beam, analyzing mobile device usage and user behavior."
      ],
      "metadata": {
        "id": "LAyt2xZWHHH9"
      }
    },
    {
      "cell_type": "code",
      "source": [
        "from google.colab import drive\n",
        "drive.mount('/content/drive')"
      ],
      "metadata": {
        "colab": {
          "base_uri": "https://localhost:8080/"
        },
        "id": "qhqgc9eeVJAi",
        "outputId": "a29a1c4d-30e2-43ef-9746-6e4bba8529ed"
      },
      "execution_count": null,
      "outputs": [
        {
          "output_type": "stream",
          "name": "stdout",
          "text": [
            "Mounted at /content/drive\n"
          ]
        }
      ]
    },
    {
      "cell_type": "code",
      "execution_count": null,
      "metadata": {
        "id": "E7llNPC1HDsE",
        "colab": {
          "base_uri": "https://localhost:8080/"
        },
        "outputId": "f1aefeba-7061-4f65-f47a-a489b541819d"
      },
      "outputs": [
        {
          "output_type": "stream",
          "name": "stdout",
          "text": [
            "\u001b[2K     \u001b[90m━━━━━━━━━━━━━━━━━━━━━━━━━━━━━━━━━━━━━━━━\u001b[0m \u001b[32m89.7/89.7 kB\u001b[0m \u001b[31m7.3 MB/s\u001b[0m eta \u001b[36m0:00:00\u001b[0m\n",
            "\u001b[?25h  Preparing metadata (setup.py) ... \u001b[?25l\u001b[?25hdone\n",
            "\u001b[2K     \u001b[90m━━━━━━━━━━━━━━━━━━━━━━━━━━━━━━━━━━━━━━━━\u001b[0m \u001b[32m152.0/152.0 kB\u001b[0m \u001b[31m11.9 MB/s\u001b[0m eta \u001b[36m0:00:00\u001b[0m\n",
            "\u001b[?25h  Preparing metadata (setup.py) ... \u001b[?25l\u001b[?25hdone\n",
            "\u001b[2K     \u001b[90m━━━━━━━━━━━━━━━━━━━━━━━━━━━━━━━━━━━━━━━━\u001b[0m \u001b[32m43.5/43.5 kB\u001b[0m \u001b[31m2.8 MB/s\u001b[0m eta \u001b[36m0:00:00\u001b[0m\n",
            "\u001b[?25h  Preparing metadata (setup.py) ... \u001b[?25l\u001b[?25hdone\n",
            "  Preparing metadata (setup.py) ... \u001b[?25l\u001b[?25hdone\n",
            "\u001b[2K   \u001b[90m━━━━━━━━━━━━━━━━━━━━━━━━━━━━━━━━━━━━━━━━\u001b[0m \u001b[32m15.7/15.7 MB\u001b[0m \u001b[31m51.3 MB/s\u001b[0m eta \u001b[36m0:00:00\u001b[0m\n",
            "\u001b[2K   \u001b[90m━━━━━━━━━━━━━━━━━━━━━━━━━━━━━━━━━━━━━━━━\u001b[0m \u001b[32m3.1/3.1 MB\u001b[0m \u001b[31m55.1 MB/s\u001b[0m eta \u001b[36m0:00:00\u001b[0m\n",
            "\u001b[2K   \u001b[90m━━━━━━━━━━━━━━━━━━━━━━━━━━━━━━━━━━━━━━━━\u001b[0m \u001b[32m40.8/40.8 MB\u001b[0m \u001b[31m12.3 MB/s\u001b[0m eta \u001b[36m0:00:00\u001b[0m\n",
            "\u001b[2K   \u001b[90m━━━━━━━━━━━━━━━━━━━━━━━━━━━━━━━━━━━━━━━━\u001b[0m \u001b[32m1.4/1.4 MB\u001b[0m \u001b[31m37.9 MB/s\u001b[0m eta \u001b[36m0:00:00\u001b[0m\n",
            "\u001b[2K   \u001b[90m━━━━━━━━━━━━━━━━━━━━━━━━━━━━━━━━━━━━━━━━\u001b[0m \u001b[32m261.4/261.4 kB\u001b[0m \u001b[31m15.2 MB/s\u001b[0m eta \u001b[36m0:00:00\u001b[0m\n",
            "\u001b[2K   \u001b[90m━━━━━━━━━━━━━━━━━━━━━━━━━━━━━━━━━━━━━━━━\u001b[0m \u001b[32m5.4/5.4 MB\u001b[0m \u001b[31m50.3 MB/s\u001b[0m eta \u001b[36m0:00:00\u001b[0m\n",
            "\u001b[2K   \u001b[90m━━━━━━━━━━━━━━━━━━━━━━━━━━━━━━━━━━━━━━━━\u001b[0m \u001b[32m313.6/313.6 kB\u001b[0m \u001b[31m15.9 MB/s\u001b[0m eta \u001b[36m0:00:00\u001b[0m\n",
            "\u001b[?25h  Building wheel for crcmod (setup.py) ... \u001b[?25l\u001b[?25hdone\n",
            "  Building wheel for dill (setup.py) ... \u001b[?25l\u001b[?25hdone\n",
            "  Building wheel for hdfs (setup.py) ... \u001b[?25l\u001b[?25hdone\n",
            "  Building wheel for docopt (setup.py) ... \u001b[?25l\u001b[?25hdone\n",
            "\u001b[31mERROR: pip's dependency resolver does not currently take into account all the packages that are installed. This behaviour is the source of the following dependency conflicts.\n",
            "dask 2024.10.0 requires cloudpickle>=3.0.0, but you have cloudpickle 2.2.1 which is incompatible.\u001b[0m\u001b[31m\n",
            "\u001b[0m"
          ]
        }
      ],
      "source": [
        "!pip install apache-beam -qq"
      ]
    },
    {
      "cell_type": "code",
      "source": [
        "import apache_beam as beam\n",
        "from apache_beam.options.pipeline_options import PipelineOptions"
      ],
      "metadata": {
        "id": "zwvw6e0dIKLE"
      },
      "execution_count": null,
      "outputs": []
    },
    {
      "cell_type": "code",
      "source": [
        "mobile_usage = '/content/drive/MyDrive/data/user_behavior_dataset.csv'\n",
        "# mobile_usage = '/content/user_behavior_dataset.csv'"
      ],
      "metadata": {
        "id": "lB61cJAzJWoi"
      },
      "execution_count": null,
      "outputs": []
    },
    {
      "cell_type": "code",
      "source": [
        "# Define a function to parse CSV rows\n",
        "def parse_csv(row):\n",
        "    import csv\n",
        "    for record in csv.reader([row]):\n",
        "        return {\n",
        "            \"UserID\": int(record[0]),\n",
        "            \"DeviceModel\": record[1],\n",
        "            \"OS\": record[2],\n",
        "            \"AppUsageTime\": int(record[3]),\n",
        "            \"ScreenOnTime\": float(record[4]),\n",
        "            \"BatteryDrain\": float(record[5]),\n",
        "            \"NumOfApps\": int(record[6]),\n",
        "            \"DataUsage\": float(record[7]),\n",
        "            \"Age\": int(record[8]),\n",
        "            \"Gender\": record[9],\n",
        "            \"UserBehaviorClass\": int(record[10])\n",
        "        }"
      ],
      "metadata": {
        "id": "150pCaPpI1rW"
      },
      "execution_count": null,
      "outputs": []
    },
    {
      "cell_type": "code",
      "source": [
        "# Function to find top 5 models\n",
        "def find_top_models(usage):\n",
        "  return (usage['DeviceModel'], 1)"
      ],
      "metadata": {
        "id": "iU-ALaMfLmEr"
      },
      "execution_count": null,
      "outputs": []
    },
    {
      "cell_type": "code",
      "source": [
        "# Function to get minimum and maximum age users in the dataset\n",
        "def get_min_max_age(usage):\n",
        "  # print(\"First record:\", next(iter(usage), \"No records found\"))\n",
        "  ages = []\n",
        "  for record in usage:\n",
        "    if isinstance(record, dict):\n",
        "      ages.append(int(record['Age']))\n",
        "    else:\n",
        "      # print(\"Unexpected record format:\", record)\n",
        "      continue\n",
        "\n",
        "  if ages:\n",
        "    return min(ages), max(ages)\n",
        "  else:\n",
        "    return None, None\n"
      ],
      "metadata": {
        "id": "zHY7uUteOiP3"
      },
      "execution_count": null,
      "outputs": []
    },
    {
      "cell_type": "code",
      "source": [
        "# Function to compute average data usage for each user behavior class\n",
        "def user_map_class(usage):\n",
        "  return (usage['UserBehaviorClass'], usage['DataUsage'])\n",
        "\n",
        "class average_data_usage(beam.CombineFn):\n",
        "    def create_accumulator(self):\n",
        "        return (0.0, 0)  # (sum of data usage, count)\n",
        "\n",
        "    def add_input(self, accumulator, data_usage):\n",
        "        if isinstance(data_usage, tuple):\n",
        "            data_usage = data_usage[0]\n",
        "        return accumulator[0] + data_usage, accumulator[1] + 1\n",
        "\n",
        "    def merge_accumulators(self, accumulators):\n",
        "        sum_data_usage = sum(accumulator[0] for accumulator in accumulators)\n",
        "        count = sum(accumulator[1] for accumulator in accumulators)\n",
        "        return (sum_data_usage, count)\n",
        "\n",
        "    def extract_output(self, accumulator):\n",
        "        (sum_data_usage, count) = accumulator\n",
        "        return sum_data_usage / count if count > 0 else float('NaN')\n"
      ],
      "metadata": {
        "id": "mFOjZJc9Jn1n"
      },
      "execution_count": null,
      "outputs": []
    },
    {
      "cell_type": "code",
      "source": [
        "# Function to compute average battery drain for each device model\n",
        "def map_battery_drain(usage):\n",
        "  return (usage['DeviceModel'], usage['BatteryDrain'])\n",
        "\n",
        "class average_battery_drain(beam.CombineFn):\n",
        "    def create_accumulator(self):\n",
        "        return (0.0, 0)  # (sum of data usage, count)\n",
        "\n",
        "    def add_input(self, accumulator, battery_drain):\n",
        "        if isinstance(battery_drain, tuple):\n",
        "            battery_drain = battery_drain[0]\n",
        "        return accumulator[0] + battery_drain, accumulator[1] + 1\n",
        "\n",
        "    def merge_accumulators(self, accumulators):\n",
        "        sum_battery_drain = sum(accumulator[0] for accumulator in accumulators)\n",
        "        count = sum(accumulator[1] for accumulator in accumulators)\n",
        "        return (sum_battery_drain, count)\n",
        "\n",
        "    def extract_output(self, accumulator):\n",
        "        (sum_battery_drain, count) = accumulator\n",
        "        return sum_battery_drain / count if count > 0 else float('NaN')\n"
      ],
      "metadata": {
        "id": "zMgJdhQBzaaL"
      },
      "execution_count": null,
      "outputs": []
    },
    {
      "cell_type": "code",
      "source": [
        "# Extract age\n",
        "def get_age(usage):\n",
        "  return usage['Age']\n",
        "\n",
        "class AgeRangeCombineFn(beam.CombineFn):\n",
        "    def create_accumulator(self):\n",
        "        return float('inf'), float('-inf')  # (youngest age, oldest age)\n",
        "\n",
        "    def add_input(self, accumulator, age):\n",
        "        min_age, max_age = accumulator\n",
        "        return min(min_age, age), max(max_age, age)\n",
        "\n",
        "    def merge_accumulators(self, accumulators):\n",
        "        min_age = min(acc[0] for acc in accumulators)\n",
        "        max_age = max(acc[1] for acc in accumulators)\n",
        "        return min_age, max_age\n",
        "\n",
        "    def extract_output(self, accumulator):\n",
        "        return accumulator"
      ],
      "metadata": {
        "id": "dQFiROPt2pI7"
      },
      "execution_count": null,
      "outputs": []
    },
    {
      "cell_type": "code",
      "source": [
        "# Format the output as a list of strings for writing to the file\n",
        "def format_age_range(age_range):\n",
        "    min_age, max_age = age_range\n",
        "    return [f\"Youngest Age: {min_age}\", f\"Oldest Age: {max_age}\"]"
      ],
      "metadata": {
        "id": "nRVtQjoY2f4X"
      },
      "execution_count": null,
      "outputs": []
    },
    {
      "cell_type": "code",
      "source": [
        "# Function to map gender\n",
        "def gender_map_class(usage):\n",
        "  return (usage['Gender'], 1)"
      ],
      "metadata": {
        "id": "ymjHOPth1N0A"
      },
      "execution_count": null,
      "outputs": []
    },
    {
      "cell_type": "code",
      "source": [
        "# Function to map user_id and app uage time\n",
        "def app_map_class(usage):\n",
        "  return (usage['UserID'], usage['AppUsageTime'])"
      ],
      "metadata": {
        "id": "S6rtrNhpKsHB"
      },
      "execution_count": null,
      "outputs": []
    },
    {
      "cell_type": "code",
      "source": [
        "options = PipelineOptions()\n",
        "with beam.Pipeline(options=options) as pipeline:\n",
        "    # Read data from the File\n",
        "    usage = (\n",
        "        pipeline\n",
        "        | \"Read CSV\" >> beam.io.ReadFromText(mobile_usage, skip_header_lines=1)\n",
        "        | \"Parse CSV\" >> beam.Map(parse_csv)\n",
        "    )\n",
        "\n",
        "    # # 1. Top 5 models\n",
        "    top_device_models = (\n",
        "        usage\n",
        "        | \"Get Device models\" >> beam.Map(find_top_models)\n",
        "        | \"Count Device models\" >> beam.CombinePerKey(sum)\n",
        "        | \"Top 5 Device models\" >> beam.transforms.combiners.Top.Of(5, key=lambda devicemodels: devicemodels[1])\n",
        "        | \"Write Survivors\" >> beam.io.WriteToText('top_device_models.txt')\n",
        "    )\n",
        "\n",
        "    user_age_range = (\n",
        "        usage\n",
        "        | \"Get Age\" >> beam.Map(get_age)\n",
        "        | \"Calculate Min and Max ages\" >> beam.CombineGlobally(AgeRangeCombineFn())\n",
        "        | \"Format Age Range\" >> beam.Map(format_age_range)\n",
        "        | \"Write Age Range\" >> beam.io.WriteToText('user_age_range.txt')\n",
        "    )\n",
        "\n",
        "    # 3. Average Data usage by User behaviour class\n",
        "    data_usage_by_class = (\n",
        "        usage\n",
        "        | \"Map to User Behavior Class\" >> beam.Map(user_map_class)\n",
        "        | \"Average Data Usage\" >> beam.CombinePerKey(average_data_usage())\n",
        "        | \"Write Average Data Usage by Class\" >> beam.io.WriteToText('data_usage_by_class.txt')\n",
        "    )\n",
        "\n",
        "    # 4 Percentage of male and female users\n",
        "    gender_distribution = (\n",
        "        usage\n",
        "        | \"Get Gender\" >> beam.Map(gender_map_class)\n",
        "        | \"Count Gender\" >> beam.GroupByKey()\n",
        "        | \" xya\" >> beam.Map(lambda users: (users[0], sum(users[1])))\n",
        "        | \"Write Gender Distribution\" >> beam.io.WriteToText('gender_distribution.txt')\n",
        "    )\n",
        "\n",
        "    # 5. Top 10 users with high daily app usage\n",
        "    power_users = (\n",
        "        usage\n",
        "        | \"Map UserID and AppUsageTime\" >> beam.Map(app_map_class)\n",
        "        | \"Get Top 10 Users\" >> beam.combiners.Top.Of(10, key=lambda users: users[1])\n",
        "        | \"Flatten Top 10 List\" >> beam.FlatMap(lambda users: users)  # Flatten the list of top users\n",
        "        | \"Print All Users\" >> beam.Map(lambda user: print(user) or user)\n",
        "        | \"Extract User IDs Only\" >> beam.Map(lambda userid: userid[0])\n",
        "        | \"Write Power Users\" >> beam.io.WriteToText('power_users.txt')\n",
        "    )\n",
        "\n",
        "    # 6. Average Battery Drain by device model\n",
        "    # battery_drain_by_model = (\n",
        "    #     usage\n",
        "    #     | \"Map Device Model and Battery Dran\" >> beam.Map(map_battery_drain)\n",
        "    #     | \"Average by Device Model\" >> beam.CombinePerKey(average_battery_drain())\n",
        "    #     | \"Write Average Battery Drain\" >> beam.io.WriteToText('battery_drain_by_model.txt')\n",
        "    # )"
      ],
      "metadata": {
        "colab": {
          "base_uri": "https://localhost:8080/"
        },
        "id": "7LekGPFSMnGw",
        "outputId": "d670319e-a2e8-4e7f-e91e-6c5269467e77"
      },
      "execution_count": null,
      "outputs": [
        {
          "output_type": "stream",
          "name": "stderr",
          "text": [
            "WARNING:apache_beam.options.pipeline_options:Discarding unparseable args: ['-f', '/root/.local/share/jupyter/runtime/kernel-bf903685-4664-4fce-b8e8-cdf49d2d0073.json']\n",
            "WARNING:apache_beam.transforms.core:('No iterator is returned by the process method in %s.', <class 'apache_beam.transforms.combiners._TopPerBundle'>)\n",
            "WARNING:apache_beam.transforms.core:('No iterator is returned by the process method in %s.', <class 'apache_beam.transforms.combiners._TopPerBundle'>)\n",
            "WARNING:apache_beam.options.pipeline_options:Discarding unparseable args: ['-f', '/root/.local/share/jupyter/runtime/kernel-bf903685-4664-4fce-b8e8-cdf49d2d0073.json']\n"
          ]
        },
        {
          "output_type": "stream",
          "name": "stdout",
          "text": [
            "(368, 598)\n",
            "(185, 597)\n",
            "(342, 597)\n",
            "(167, 595)\n",
            "(655, 594)\n",
            "(35, 593)\n",
            "(538, 593)\n",
            "(540, 592)\n",
            "(452, 591)\n",
            "(531, 589)\n"
          ]
        }
      ]
    },
    {
      "cell_type": "code",
      "source": [
        "data = [(i, v) for i, v in enumerate(range(20))]\n",
        "data"
      ],
      "metadata": {
        "id": "fDNOx4mjUyO8",
        "colab": {
          "base_uri": "https://localhost:8080/"
        },
        "outputId": "28583f97-c26a-47de-9bb8-0346e84d3b8b"
      },
      "execution_count": null,
      "outputs": [
        {
          "output_type": "execute_result",
          "data": {
            "text/plain": [
              "[(0, 0),\n",
              " (1, 1),\n",
              " (2, 2),\n",
              " (3, 3),\n",
              " (4, 4),\n",
              " (5, 5),\n",
              " (6, 6),\n",
              " (7, 7),\n",
              " (8, 8),\n",
              " (9, 9),\n",
              " (10, 10),\n",
              " (11, 11),\n",
              " (12, 12),\n",
              " (13, 13),\n",
              " (14, 14),\n",
              " (15, 15),\n",
              " (16, 16),\n",
              " (17, 17),\n",
              " (18, 18),\n",
              " (19, 19)]"
            ]
          },
          "metadata": {},
          "execution_count": 18
        }
      ]
    },
    {
      "cell_type": "code",
      "source": [
        "output = data | beam.combiners.Top.Of(10, key=lambda users: users[1])\n",
        "output[0]"
      ],
      "metadata": {
        "colab": {
          "base_uri": "https://localhost:8080/"
        },
        "id": "n4RMnRVwa4RN",
        "outputId": "3431c48c-4d1d-4c5e-cf38-0b27837f91e9"
      },
      "execution_count": null,
      "outputs": [
        {
          "output_type": "stream",
          "name": "stderr",
          "text": [
            "WARNING:apache_beam.transforms.core:('No iterator is returned by the process method in %s.', <class 'apache_beam.transforms.combiners._TopPerBundle'>)\n",
            "WARNING:apache_beam.transforms.core:('No iterator is returned by the process method in %s.', <class 'apache_beam.transforms.ptransform._AddMaterializationTransforms._materialize_transform.<locals>._MaterializeValuesDoFn'>)\n",
            "WARNING:apache_beam.options.pipeline_options:Discarding unparseable args: ['/usr/local/lib/python3.10/dist-packages/colab_kernel_launcher.py', '-f', '/root/.local/share/jupyter/runtime/kernel-bf903685-4664-4fce-b8e8-cdf49d2d0073.json']\n"
          ]
        },
        {
          "output_type": "execute_result",
          "data": {
            "text/plain": [
              "[(19, 19),\n",
              " (18, 18),\n",
              " (17, 17),\n",
              " (16, 16),\n",
              " (15, 15),\n",
              " (14, 14),\n",
              " (13, 13),\n",
              " (12, 12),\n",
              " (11, 11),\n",
              " (10, 10)]"
            ]
          },
          "metadata": {},
          "execution_count": 21
        }
      ]
    },
    {
      "cell_type": "code",
      "source": [
        "output | beam.FlatMap(lambda users: users)"
      ],
      "metadata": {
        "colab": {
          "base_uri": "https://localhost:8080/"
        },
        "id": "6jqyE277bf-Q",
        "outputId": "7cd1c624-145b-4aec-85cd-e3b54bba71dd"
      },
      "execution_count": null,
      "outputs": [
        {
          "output_type": "stream",
          "name": "stderr",
          "text": [
            "WARNING:apache_beam.transforms.core:('No iterator is returned by the process method in %s.', <class 'apache_beam.transforms.ptransform._AddMaterializationTransforms._materialize_transform.<locals>._MaterializeValuesDoFn'>)\n",
            "WARNING:apache_beam.options.pipeline_options:Discarding unparseable args: ['/usr/local/lib/python3.10/dist-packages/colab_kernel_launcher.py', '-f', '/root/.local/share/jupyter/runtime/kernel-bf903685-4664-4fce-b8e8-cdf49d2d0073.json']\n"
          ]
        },
        {
          "output_type": "execute_result",
          "data": {
            "text/plain": [
              "[(19, 19),\n",
              " (18, 18),\n",
              " (17, 17),\n",
              " (16, 16),\n",
              " (15, 15),\n",
              " (14, 14),\n",
              " (13, 13),\n",
              " (12, 12),\n",
              " (11, 11),\n",
              " (10, 10)]"
            ]
          },
          "metadata": {},
          "execution_count": 20
        }
      ]
    },
    {
      "cell_type": "code",
      "source": [],
      "metadata": {
        "id": "LDDUdo_DR5Cg"
      },
      "execution_count": null,
      "outputs": []
    }
  ]
}